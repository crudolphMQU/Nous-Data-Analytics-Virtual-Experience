{
 "cells": [
  {
   "cell_type": "code",
   "execution_count": 12,
   "id": "683f2d9b",
   "metadata": {},
   "outputs": [],
   "source": [
    "import pandas as pd\n",
    "import os"
   ]
  },
  {
   "cell_type": "code",
   "execution_count": 2,
   "id": "47595907",
   "metadata": {},
   "outputs": [
    {
     "name": "stdout",
     "output_type": "stream",
     "text": [
      " Volume in drive C has no label.\n",
      " Volume Serial Number is 77B6-1F68\n",
      "\n",
      " Directory of C:\\Users\\Rudol\\Github\\Nous-Data-Analytics-Virtual-Experience\\Nous-Data-Analytics-Virtual-Experience\n",
      "\n",
      "18/05/2023  02:09 PM    <DIR>          .\n",
      "18/05/2023  02:09 PM    <DIR>          ..\n",
      "18/05/2023  02:07 PM    <DIR>          .ipynb_checkpoints\n",
      "18/05/2023  02:12 PM    <DIR>          data\n",
      "18/05/2023  02:06 PM                40 README.md\n",
      "18/05/2023  02:09 PM               589 Untitled.ipynb\n",
      "               2 File(s)            629 bytes\n",
      "               4 Dir(s)  817,603,436,544 bytes free\n"
     ]
    }
   ],
   "source": [
    "ls"
   ]
  },
  {
   "cell_type": "code",
   "execution_count": 8,
   "id": "42635ced",
   "metadata": {},
   "outputs": [
    {
     "name": "stdout",
     "output_type": "stream",
     "text": [
      "C:\\Users\\Rudol\\Github\\Nous-Data-Analytics-Virtual-Experience\\Nous-Data-Analytics-Virtual-Experience\\data\n"
     ]
    }
   ],
   "source": [
    "cd data"
   ]
  },
  {
   "cell_type": "code",
   "execution_count": 6,
   "id": "9a4e3c2d",
   "metadata": {},
   "outputs": [],
   "source": [
    "data_dir = 'data/'"
   ]
  },
  {
   "cell_type": "code",
   "execution_count": 9,
   "id": "c094c5c7",
   "metadata": {},
   "outputs": [
    {
     "name": "stdout",
     "output_type": "stream",
     "text": [
      " Volume in drive C has no label.\n",
      " Volume Serial Number is 77B6-1F68\n",
      "\n",
      " Directory of C:\\Users\\Rudol\\Github\\Nous-Data-Analytics-Virtual-Experience\\Nous-Data-Analytics-Virtual-Experience\\data\n",
      "\n",
      "18/05/2023  02:12 PM    <DIR>          .\n",
      "18/05/2023  02:12 PM    <DIR>          ..\n",
      "15/02/2023  10:39 AM            53,189 Table 32a Non-special Schools by Primary Enrolment, 2004-2022.xlsx\n",
      "15/02/2023  10:39 AM            59,949 Table 33a Non-special Schools by Secondary Enrolment, 2004-2022.xlsx\n",
      "15/02/2023  10:39 AM           137,760 Table 35b Counts of all Schools, 2010-2022.xlsx\n",
      "15/02/2023  10:39 AM           231,564 Table 36a Non-special Schools by Enrolment Size Ranges, 2015-2022.xlsx\n",
      "15/02/2023  10:39 AM         7,812,321 Table 42b Number of Full-time and Part-time Students, 2006-2022.xlsx\n",
      "15/02/2023  10:39 AM         3,144,453 Table 43a Full-time Equivalent Students, 2006-2022.xlsx\n",
      "15/02/2023  10:39 AM            80,553 Table 46a Students (FTE) by ASGS Remoteness Indicator, 2022.xlsx\n",
      "15/02/2023  10:39 AM           179,930 Table 50a In-school Staff (Number), 2006-2022.xlsx\n",
      "15/02/2023  10:39 AM           807,690 Table 51a In-school Staff (FTE), 2006-2022.xlsx\n",
      "15/02/2023  10:39 AM           126,633 Table 53a Student (FTE) to Teaching Staff (FTE) Ratios, 2006-2022.xlsx\n",
      "15/02/2023  10:39 AM           229,719 Table 57a Out-of-school Staff (Number and FTE), 2015-2022.xlsx\n",
      "15/02/2023  10:39 AM            92,701 Table 62a Capped Apparent Continuation Rates, 2011-2022.xlsx\n",
      "15/02/2023  10:39 AM           372,112 Table 63a Capped Apparent Retention Rates by Single Year (Grade), 2011-2022.xlsx\n",
      "15/02/2023  10:39 AM           587,616 Table 64a Capped Apparent Retention Rates, 2011-2022.xlsx\n",
      "15/02/2023  10:39 AM           514,464 Table 64b Capped Apparent Retention Rates (FTE), 2013-2022.xlsx\n",
      "15/02/2023  10:39 AM           193,466 Table 66a Capped School Participation Rates for Students Aged 6-19, 2011-2022.xlsx\n",
      "15/02/2023  10:39 AM         1,249,025 Table 67a Consolidated Student Rates, 2011-2022.xlsx\n",
      "15/02/2023  10:39 AM           130,855 Table 90a Key Information, by States and Territories, 2021 to 2022.xlsx\n",
      "              18 File(s)     16,004,000 bytes\n",
      "               2 Dir(s)  817,582,714,880 bytes free\n"
     ]
    }
   ],
   "source": [
    "ls"
   ]
  },
  {
   "cell_type": "code",
   "execution_count": 10,
   "id": "0ac0b369",
   "metadata": {},
   "outputs": [
    {
     "name": "stdout",
     "output_type": "stream",
     "text": [
      "C:\\Users\\Rudol\\Github\\Nous-Data-Analytics-Virtual-Experience\\Nous-Data-Analytics-Virtual-Experience\n"
     ]
    }
   ],
   "source": [
    "cd .."
   ]
  },
  {
   "cell_type": "code",
   "execution_count": 13,
   "id": "147e1024",
   "metadata": {},
   "outputs": [
    {
     "name": "stdout",
     "output_type": "stream",
     "text": [
      "Path of the file.. C:\\Users\\Rudol\\Github\\Nous-Data-Analytics-Virtual-Experience\\Nous-Data-Analytics-Virtual-Experience\\Table 53a Student (FTE) to Teaching Staff (FTE) Ratios, 2006-2022\n"
     ]
    }
   ],
   "source": [
    "print(\"Path of the file..\", os.path.abspath('Table 53a Student (FTE) to Teaching Staff (FTE) Ratios, 2006-2022'))"
   ]
  },
  {
   "cell_type": "code",
   "execution_count": 14,
   "id": "379f7d96",
   "metadata": {},
   "outputs": [],
   "source": [
    "file_path = os.path.abspath('Table 53a Student (FTE) to Teaching Staff (FTE) Ratios, 2006-2022')"
   ]
  },
  {
   "cell_type": "code",
   "execution_count": 16,
   "id": "7ad2c257",
   "metadata": {},
   "outputs": [
    {
     "data": {
      "text/plain": [
       "'C:\\\\Users\\\\Rudol\\\\Github\\\\Nous-Data-Analytics-Virtual-Experience\\\\Nous-Data-Analytics-Virtual-Experience'"
      ]
     },
     "execution_count": 16,
     "metadata": {},
     "output_type": "execute_result"
    }
   ],
   "source": [
    "os.getcwd()"
   ]
  },
  {
   "cell_type": "code",
   "execution_count": 24,
   "id": "29640044",
   "metadata": {},
   "outputs": [
    {
     "data": {
      "text/plain": [
       "['Table 32a Non-special Schools by Primary Enrolment, 2004-2022.xlsx',\n",
       " 'Table 33a Non-special Schools by Secondary Enrolment, 2004-2022.xlsx',\n",
       " 'Table 35b Counts of all Schools, 2010-2022.xlsx',\n",
       " 'Table 36a Non-special Schools by Enrolment Size Ranges, 2015-2022.xlsx',\n",
       " 'Table 42b Number of Full-time and Part-time Students, 2006-2022.xlsx',\n",
       " 'Table 43a Full-time Equivalent Students, 2006-2022.xlsx',\n",
       " 'Table 46a Students (FTE) by ASGS Remoteness Indicator, 2022.xlsx',\n",
       " 'Table 50a In-school Staff (Number), 2006-2022.xlsx',\n",
       " 'Table 51a In-school Staff (FTE), 2006-2022.xlsx',\n",
       " 'Table 53a Student (FTE) to Teaching Staff (FTE) Ratios, 2006-2022.xlsx',\n",
       " 'Table 57a Out-of-school Staff (Number and FTE), 2015-2022.xlsx',\n",
       " 'Table 62a Capped Apparent Continuation Rates, 2011-2022.xlsx',\n",
       " 'Table 63a Capped Apparent Retention Rates by Single Year (Grade), 2011-2022.xlsx',\n",
       " 'Table 64a Capped Apparent Retention Rates, 2011-2022.xlsx',\n",
       " 'Table 64b Capped Apparent Retention Rates (FTE), 2013-2022.xlsx',\n",
       " 'Table 66a Capped School Participation Rates for Students Aged 6-19, 2011-2022.xlsx',\n",
       " 'Table 67a Consolidated Student Rates, 2011-2022.xlsx',\n",
       " 'Table 90a Key Information, by States and Territories, 2021 to 2022.xlsx']"
      ]
     },
     "execution_count": 24,
     "metadata": {},
     "output_type": "execute_result"
    }
   ],
   "source": [
    "os.listdir()"
   ]
  },
  {
   "cell_type": "code",
   "execution_count": 20,
   "id": "0fff1111",
   "metadata": {},
   "outputs": [
    {
     "name": "stdout",
     "output_type": "stream",
     "text": [
      "C:\\Users\\Rudol\\Github\\Nous-Data-Analytics-Virtual-Experience\\Nous-Data-Analytics-Virtual-Experience\\data\n"
     ]
    }
   ],
   "source": [
    "cd data"
   ]
  },
  {
   "cell_type": "code",
   "execution_count": 56,
   "id": "a5858ed8",
   "metadata": {},
   "outputs": [],
   "source": [
    "columns = 'year', 'state_territory', 'affiliation', 'school_level', 'student_teacher_ratio'\n",
    "skip_rows = 5\n",
    "skip_footer = 11"
   ]
  },
  {
   "cell_type": "code",
   "execution_count": 99,
   "id": "7943af18",
   "metadata": {
    "scrolled": false
   },
   "outputs": [
    {
     "data": {
      "text/html": [
       "<div>\n",
       "<style scoped>\n",
       "    .dataframe tbody tr th:only-of-type {\n",
       "        vertical-align: middle;\n",
       "    }\n",
       "\n",
       "    .dataframe tbody tr th {\n",
       "        vertical-align: top;\n",
       "    }\n",
       "\n",
       "    .dataframe thead th {\n",
       "        text-align: right;\n",
       "    }\n",
       "</style>\n",
       "<table border=\"1\" class=\"dataframe\">\n",
       "  <thead>\n",
       "    <tr style=\"text-align: right;\">\n",
       "      <th></th>\n",
       "      <th>year</th>\n",
       "      <th>state_territory</th>\n",
       "      <th>affiliation</th>\n",
       "      <th>school_level</th>\n",
       "      <th>student_teacher_ratio</th>\n",
       "    </tr>\n",
       "  </thead>\n",
       "  <tbody>\n",
       "    <tr>\n",
       "      <th>0</th>\n",
       "      <td>2022</td>\n",
       "      <td>a NSW</td>\n",
       "      <td>a Government</td>\n",
       "      <td>b Secondary School</td>\n",
       "      <td>13.0</td>\n",
       "    </tr>\n",
       "    <tr>\n",
       "      <th>1</th>\n",
       "      <td>2022</td>\n",
       "      <td>a NSW</td>\n",
       "      <td>a Government</td>\n",
       "      <td>c All Levels</td>\n",
       "      <td>14.2</td>\n",
       "    </tr>\n",
       "    <tr>\n",
       "      <th>2</th>\n",
       "      <td>2022</td>\n",
       "      <td>a NSW</td>\n",
       "      <td>b Non-Government</td>\n",
       "      <td>a Primary School</td>\n",
       "      <td>15.0</td>\n",
       "    </tr>\n",
       "    <tr>\n",
       "      <th>3</th>\n",
       "      <td>2022</td>\n",
       "      <td>a NSW</td>\n",
       "      <td>b Non-Government</td>\n",
       "      <td>b Secondary School</td>\n",
       "      <td>11.1</td>\n",
       "    </tr>\n",
       "    <tr>\n",
       "      <th>4</th>\n",
       "      <td>2022</td>\n",
       "      <td>a NSW</td>\n",
       "      <td>b Non-Government</td>\n",
       "      <td>c All Levels</td>\n",
       "      <td>12.7</td>\n",
       "    </tr>\n",
       "    <tr>\n",
       "      <th>...</th>\n",
       "      <td>...</td>\n",
       "      <td>...</td>\n",
       "      <td>...</td>\n",
       "      <td>...</td>\n",
       "      <td>...</td>\n",
       "    </tr>\n",
       "    <tr>\n",
       "      <th>2289</th>\n",
       "      <td>2006</td>\n",
       "      <td>i Aust.</td>\n",
       "      <td>d Independent</td>\n",
       "      <td>b Secondary School</td>\n",
       "      <td>10.7</td>\n",
       "    </tr>\n",
       "    <tr>\n",
       "      <th>2290</th>\n",
       "      <td>2006</td>\n",
       "      <td>i Aust.</td>\n",
       "      <td>d Independent</td>\n",
       "      <td>c All Levels</td>\n",
       "      <td>12.1</td>\n",
       "    </tr>\n",
       "    <tr>\n",
       "      <th>2291</th>\n",
       "      <td>2006</td>\n",
       "      <td>i Aust.</td>\n",
       "      <td>e All Affiliations</td>\n",
       "      <td>a Primary School</td>\n",
       "      <td>16.0</td>\n",
       "    </tr>\n",
       "    <tr>\n",
       "      <th>2292</th>\n",
       "      <td>2006</td>\n",
       "      <td>i Aust.</td>\n",
       "      <td>e All Affiliations</td>\n",
       "      <td>b Secondary School</td>\n",
       "      <td>12.2</td>\n",
       "    </tr>\n",
       "    <tr>\n",
       "      <th>2293</th>\n",
       "      <td>2006</td>\n",
       "      <td>i Aust.</td>\n",
       "      <td>e All Affiliations</td>\n",
       "      <td>c All Levels</td>\n",
       "      <td>14.1</td>\n",
       "    </tr>\n",
       "  </tbody>\n",
       "</table>\n",
       "<p>2294 rows × 5 columns</p>\n",
       "</div>"
      ],
      "text/plain": [
       "      year state_territory         affiliation        school_level  \\\n",
       "0     2022           a NSW        a Government  b Secondary School   \n",
       "1     2022           a NSW        a Government        c All Levels   \n",
       "2     2022           a NSW    b Non-Government    a Primary School   \n",
       "3     2022           a NSW    b Non-Government  b Secondary School   \n",
       "4     2022           a NSW    b Non-Government        c All Levels   \n",
       "...    ...             ...                 ...                 ...   \n",
       "2289  2006         i Aust.       d Independent  b Secondary School   \n",
       "2290  2006         i Aust.       d Independent        c All Levels   \n",
       "2291  2006         i Aust.  e All Affiliations    a Primary School   \n",
       "2292  2006         i Aust.  e All Affiliations  b Secondary School   \n",
       "2293  2006         i Aust.  e All Affiliations        c All Levels   \n",
       "\n",
       "      student_teacher_ratio  \n",
       "0                      13.0  \n",
       "1                      14.2  \n",
       "2                      15.0  \n",
       "3                      11.1  \n",
       "4                      12.7  \n",
       "...                     ...  \n",
       "2289                   10.7  \n",
       "2290                   12.1  \n",
       "2291                   16.0  \n",
       "2292                   12.2  \n",
       "2293                   14.1  \n",
       "\n",
       "[2294 rows x 5 columns]"
      ]
     },
     "execution_count": 99,
     "metadata": {},
     "output_type": "execute_result"
    }
   ],
   "source": [
    "file = pd.read_excel('Table 53a Student (FTE) to Teaching Staff (FTE) Ratios, 2006-2022.xlsx', sheet_name = 'Table 1', names = columns, skiprows = skip_rows, skipfooter = skip_footer)\n",
    "file"
   ]
  },
  {
   "cell_type": "code",
   "execution_count": 102,
   "id": "257fe485",
   "metadata": {
    "scrolled": true
   },
   "outputs": [
    {
     "data": {
      "text/plain": [
       "array(['a NSW', 'b Vic.', 'c Qld', 'd SA', 'e WA', 'f Tas.', 'g NT',\n",
       "       'h ACT', 'i Aust.'], dtype=object)"
      ]
     },
     "execution_count": 102,
     "metadata": {},
     "output_type": "execute_result"
    }
   ],
   "source": [
    "file['state_territory'].unique()"
   ]
  },
  {
   "cell_type": "code",
   "execution_count": 107,
   "id": "b5494dce",
   "metadata": {},
   "outputs": [],
   "source": [
    "state_territory_dict = {'a NSW': 'nsw',\n",
    "                       'b Vic.' : 'vic',\n",
    "                       'c Qld' : 'qld'}"
   ]
  },
  {
   "cell_type": "code",
   "execution_count": 112,
   "id": "c0d5e49b",
   "metadata": {},
   "outputs": [],
   "source": [
    "file = file.replace({\"state_territory\": state_territory_dict})"
   ]
  },
  {
   "cell_type": "code",
   "execution_count": 113,
   "id": "cdbba0cf",
   "metadata": {},
   "outputs": [
    {
     "data": {
      "text/plain": [
       "array(['a Government', 'b Non-Government', 'c Catholic', 'd Independent',\n",
       "       'e All Affiliations'], dtype=object)"
      ]
     },
     "execution_count": 113,
     "metadata": {},
     "output_type": "execute_result"
    }
   ],
   "source": [
    "qld_file['affiliation'].unique()"
   ]
  },
  {
   "cell_type": "code",
   "execution_count": 114,
   "id": "4e090170",
   "metadata": {},
   "outputs": [],
   "source": [
    "affiliation_dict = {'a Government': 'government'}"
   ]
  },
  {
   "cell_type": "code",
   "execution_count": 115,
   "id": "db788648",
   "metadata": {},
   "outputs": [],
   "source": [
    "file = file.replace({'affiliation': affiliation_dict})"
   ]
  },
  {
   "cell_type": "code",
   "execution_count": 116,
   "id": "89850c19",
   "metadata": {},
   "outputs": [
    {
     "data": {
      "text/plain": [
       "array(['a Primary School', 'b Secondary School', 'c All Levels',\n",
       "       'a Primary school', 'b Secondary school'], dtype=object)"
      ]
     },
     "execution_count": 116,
     "metadata": {},
     "output_type": "execute_result"
    }
   ],
   "source": [
    "qld_file['school_level'].unique()"
   ]
  },
  {
   "cell_type": "code",
   "execution_count": 117,
   "id": "ef38ee83",
   "metadata": {},
   "outputs": [],
   "source": [
    "school_level_dict = {'b Secondary School': 'secondary',\n",
    "                    'b Secondary school' : 'secondary'}"
   ]
  },
  {
   "cell_type": "code",
   "execution_count": 118,
   "id": "6049756d",
   "metadata": {},
   "outputs": [],
   "source": [
    "file = file.replace({'school_level' : school_level_dict})"
   ]
  },
  {
   "cell_type": "code",
   "execution_count": 119,
   "id": "34358e93",
   "metadata": {},
   "outputs": [
    {
     "data": {
      "text/html": [
       "<div>\n",
       "<style scoped>\n",
       "    .dataframe tbody tr th:only-of-type {\n",
       "        vertical-align: middle;\n",
       "    }\n",
       "\n",
       "    .dataframe tbody tr th {\n",
       "        vertical-align: top;\n",
       "    }\n",
       "\n",
       "    .dataframe thead th {\n",
       "        text-align: right;\n",
       "    }\n",
       "</style>\n",
       "<table border=\"1\" class=\"dataframe\">\n",
       "  <thead>\n",
       "    <tr style=\"text-align: right;\">\n",
       "      <th></th>\n",
       "      <th>year</th>\n",
       "      <th>state_territory</th>\n",
       "      <th>affiliation</th>\n",
       "      <th>school_level</th>\n",
       "      <th>student_teacher_ratio</th>\n",
       "    </tr>\n",
       "  </thead>\n",
       "  <tbody>\n",
       "    <tr>\n",
       "      <th>0</th>\n",
       "      <td>2022</td>\n",
       "      <td>nsw</td>\n",
       "      <td>government</td>\n",
       "      <td>secondary</td>\n",
       "      <td>13.0</td>\n",
       "    </tr>\n",
       "    <tr>\n",
       "      <th>1</th>\n",
       "      <td>2022</td>\n",
       "      <td>nsw</td>\n",
       "      <td>government</td>\n",
       "      <td>c All Levels</td>\n",
       "      <td>14.2</td>\n",
       "    </tr>\n",
       "    <tr>\n",
       "      <th>2</th>\n",
       "      <td>2022</td>\n",
       "      <td>nsw</td>\n",
       "      <td>b Non-Government</td>\n",
       "      <td>a Primary School</td>\n",
       "      <td>15.0</td>\n",
       "    </tr>\n",
       "    <tr>\n",
       "      <th>3</th>\n",
       "      <td>2022</td>\n",
       "      <td>nsw</td>\n",
       "      <td>b Non-Government</td>\n",
       "      <td>secondary</td>\n",
       "      <td>11.1</td>\n",
       "    </tr>\n",
       "    <tr>\n",
       "      <th>4</th>\n",
       "      <td>2022</td>\n",
       "      <td>nsw</td>\n",
       "      <td>b Non-Government</td>\n",
       "      <td>c All Levels</td>\n",
       "      <td>12.7</td>\n",
       "    </tr>\n",
       "    <tr>\n",
       "      <th>...</th>\n",
       "      <td>...</td>\n",
       "      <td>...</td>\n",
       "      <td>...</td>\n",
       "      <td>...</td>\n",
       "      <td>...</td>\n",
       "    </tr>\n",
       "    <tr>\n",
       "      <th>2199</th>\n",
       "      <td>2006</td>\n",
       "      <td>qld</td>\n",
       "      <td>d Independent</td>\n",
       "      <td>secondary</td>\n",
       "      <td>12.0</td>\n",
       "    </tr>\n",
       "    <tr>\n",
       "      <th>2200</th>\n",
       "      <td>2006</td>\n",
       "      <td>qld</td>\n",
       "      <td>d Independent</td>\n",
       "      <td>c All Levels</td>\n",
       "      <td>13.1</td>\n",
       "    </tr>\n",
       "    <tr>\n",
       "      <th>2201</th>\n",
       "      <td>2006</td>\n",
       "      <td>qld</td>\n",
       "      <td>e All Affiliations</td>\n",
       "      <td>a Primary School</td>\n",
       "      <td>15.6</td>\n",
       "    </tr>\n",
       "    <tr>\n",
       "      <th>2202</th>\n",
       "      <td>2006</td>\n",
       "      <td>qld</td>\n",
       "      <td>e All Affiliations</td>\n",
       "      <td>secondary</td>\n",
       "      <td>12.8</td>\n",
       "    </tr>\n",
       "    <tr>\n",
       "      <th>2203</th>\n",
       "      <td>2006</td>\n",
       "      <td>qld</td>\n",
       "      <td>e All Affiliations</td>\n",
       "      <td>c All Levels</td>\n",
       "      <td>14.3</td>\n",
       "    </tr>\n",
       "  </tbody>\n",
       "</table>\n",
       "<p>764 rows × 5 columns</p>\n",
       "</div>"
      ],
      "text/plain": [
       "      year state_territory         affiliation      school_level  \\\n",
       "0     2022             nsw          government         secondary   \n",
       "1     2022             nsw          government      c All Levels   \n",
       "2     2022             nsw    b Non-Government  a Primary School   \n",
       "3     2022             nsw    b Non-Government         secondary   \n",
       "4     2022             nsw    b Non-Government      c All Levels   \n",
       "...    ...             ...                 ...               ...   \n",
       "2199  2006             qld       d Independent         secondary   \n",
       "2200  2006             qld       d Independent      c All Levels   \n",
       "2201  2006             qld  e All Affiliations  a Primary School   \n",
       "2202  2006             qld  e All Affiliations         secondary   \n",
       "2203  2006             qld  e All Affiliations      c All Levels   \n",
       "\n",
       "      student_teacher_ratio  \n",
       "0                      13.0  \n",
       "1                      14.2  \n",
       "2                      15.0  \n",
       "3                      11.1  \n",
       "4                      12.7  \n",
       "...                     ...  \n",
       "2199                   12.0  \n",
       "2200                   13.1  \n",
       "2201                   15.6  \n",
       "2202                   12.8  \n",
       "2203                   14.3  \n",
       "\n",
       "[764 rows x 5 columns]"
      ]
     },
     "execution_count": 119,
     "metadata": {},
     "output_type": "execute_result"
    }
   ],
   "source": [
    "df = file[(file['state_territory'] == 'nsw') | \n",
    "          (file['state_territory'] == 'vic') | \n",
    "          (file['state_territory'] == 'qld') ]\n",
    "df"
   ]
  },
  {
   "cell_type": "code",
   "execution_count": 120,
   "id": "2fa63b30",
   "metadata": {},
   "outputs": [
    {
     "data": {
      "text/html": [
       "<div>\n",
       "<style scoped>\n",
       "    .dataframe tbody tr th:only-of-type {\n",
       "        vertical-align: middle;\n",
       "    }\n",
       "\n",
       "    .dataframe tbody tr th {\n",
       "        vertical-align: top;\n",
       "    }\n",
       "\n",
       "    .dataframe thead th {\n",
       "        text-align: right;\n",
       "    }\n",
       "</style>\n",
       "<table border=\"1\" class=\"dataframe\">\n",
       "  <thead>\n",
       "    <tr style=\"text-align: right;\">\n",
       "      <th></th>\n",
       "      <th>year</th>\n",
       "      <th>state_territory</th>\n",
       "      <th>affiliation</th>\n",
       "      <th>school_level</th>\n",
       "      <th>student_teacher_ratio</th>\n",
       "    </tr>\n",
       "  </thead>\n",
       "  <tbody>\n",
       "    <tr>\n",
       "      <th>0</th>\n",
       "      <td>2022</td>\n",
       "      <td>nsw</td>\n",
       "      <td>government</td>\n",
       "      <td>secondary</td>\n",
       "      <td>13.0</td>\n",
       "    </tr>\n",
       "    <tr>\n",
       "      <th>1</th>\n",
       "      <td>2022</td>\n",
       "      <td>nsw</td>\n",
       "      <td>government</td>\n",
       "      <td>c All Levels</td>\n",
       "      <td>14.2</td>\n",
       "    </tr>\n",
       "    <tr>\n",
       "      <th>14</th>\n",
       "      <td>2022</td>\n",
       "      <td>vic</td>\n",
       "      <td>government</td>\n",
       "      <td>a Primary School</td>\n",
       "      <td>13.5</td>\n",
       "    </tr>\n",
       "    <tr>\n",
       "      <th>15</th>\n",
       "      <td>2022</td>\n",
       "      <td>vic</td>\n",
       "      <td>government</td>\n",
       "      <td>secondary</td>\n",
       "      <td>11.6</td>\n",
       "    </tr>\n",
       "    <tr>\n",
       "      <th>16</th>\n",
       "      <td>2022</td>\n",
       "      <td>vic</td>\n",
       "      <td>government</td>\n",
       "      <td>c All Levels</td>\n",
       "      <td>12.7</td>\n",
       "    </tr>\n",
       "    <tr>\n",
       "      <th>...</th>\n",
       "      <td>...</td>\n",
       "      <td>...</td>\n",
       "      <td>...</td>\n",
       "      <td>...</td>\n",
       "      <td>...</td>\n",
       "    </tr>\n",
       "    <tr>\n",
       "      <th>2175</th>\n",
       "      <td>2006</td>\n",
       "      <td>vic</td>\n",
       "      <td>government</td>\n",
       "      <td>secondary</td>\n",
       "      <td>11.9</td>\n",
       "    </tr>\n",
       "    <tr>\n",
       "      <th>2176</th>\n",
       "      <td>2006</td>\n",
       "      <td>vic</td>\n",
       "      <td>government</td>\n",
       "      <td>c All Levels</td>\n",
       "      <td>13.9</td>\n",
       "    </tr>\n",
       "    <tr>\n",
       "      <th>2189</th>\n",
       "      <td>2006</td>\n",
       "      <td>qld</td>\n",
       "      <td>government</td>\n",
       "      <td>a Primary School</td>\n",
       "      <td>15.5</td>\n",
       "    </tr>\n",
       "    <tr>\n",
       "      <th>2190</th>\n",
       "      <td>2006</td>\n",
       "      <td>qld</td>\n",
       "      <td>government</td>\n",
       "      <td>secondary</td>\n",
       "      <td>13.0</td>\n",
       "    </tr>\n",
       "    <tr>\n",
       "      <th>2191</th>\n",
       "      <td>2006</td>\n",
       "      <td>qld</td>\n",
       "      <td>government</td>\n",
       "      <td>c All Levels</td>\n",
       "      <td>14.4</td>\n",
       "    </tr>\n",
       "  </tbody>\n",
       "</table>\n",
       "<p>152 rows × 5 columns</p>\n",
       "</div>"
      ],
      "text/plain": [
       "      year state_territory affiliation      school_level  \\\n",
       "0     2022             nsw  government         secondary   \n",
       "1     2022             nsw  government      c All Levels   \n",
       "14    2022             vic  government  a Primary School   \n",
       "15    2022             vic  government         secondary   \n",
       "16    2022             vic  government      c All Levels   \n",
       "...    ...             ...         ...               ...   \n",
       "2175  2006             vic  government         secondary   \n",
       "2176  2006             vic  government      c All Levels   \n",
       "2189  2006             qld  government  a Primary School   \n",
       "2190  2006             qld  government         secondary   \n",
       "2191  2006             qld  government      c All Levels   \n",
       "\n",
       "      student_teacher_ratio  \n",
       "0                      13.0  \n",
       "1                      14.2  \n",
       "14                     13.5  \n",
       "15                     11.6  \n",
       "16                     12.7  \n",
       "...                     ...  \n",
       "2175                   11.9  \n",
       "2176                   13.9  \n",
       "2189                   15.5  \n",
       "2190                   13.0  \n",
       "2191                   14.4  \n",
       "\n",
       "[152 rows x 5 columns]"
      ]
     },
     "execution_count": 120,
     "metadata": {},
     "output_type": "execute_result"
    }
   ],
   "source": [
    "df = df[df['affiliation'] == 'government']\n",
    "df"
   ]
  },
  {
   "cell_type": "code",
   "execution_count": 126,
   "id": "042c95c1",
   "metadata": {},
   "outputs": [
    {
     "data": {
      "text/html": [
       "<div>\n",
       "<style scoped>\n",
       "    .dataframe tbody tr th:only-of-type {\n",
       "        vertical-align: middle;\n",
       "    }\n",
       "\n",
       "    .dataframe tbody tr th {\n",
       "        vertical-align: top;\n",
       "    }\n",
       "\n",
       "    .dataframe thead th {\n",
       "        text-align: right;\n",
       "    }\n",
       "</style>\n",
       "<table border=\"1\" class=\"dataframe\">\n",
       "  <thead>\n",
       "    <tr style=\"text-align: right;\">\n",
       "      <th></th>\n",
       "      <th>year</th>\n",
       "      <th>state_territory</th>\n",
       "      <th>affiliation</th>\n",
       "      <th>school_level</th>\n",
       "      <th>student_teacher_ratio</th>\n",
       "    </tr>\n",
       "  </thead>\n",
       "  <tbody>\n",
       "    <tr>\n",
       "      <th>0</th>\n",
       "      <td>2022</td>\n",
       "      <td>nsw</td>\n",
       "      <td>government</td>\n",
       "      <td>secondary</td>\n",
       "      <td>13.0</td>\n",
       "    </tr>\n",
       "    <tr>\n",
       "      <th>15</th>\n",
       "      <td>2022</td>\n",
       "      <td>vic</td>\n",
       "      <td>government</td>\n",
       "      <td>secondary</td>\n",
       "      <td>11.6</td>\n",
       "    </tr>\n",
       "    <tr>\n",
       "      <th>30</th>\n",
       "      <td>2022</td>\n",
       "      <td>qld</td>\n",
       "      <td>government</td>\n",
       "      <td>secondary</td>\n",
       "      <td>12.1</td>\n",
       "    </tr>\n",
       "    <tr>\n",
       "      <th>135</th>\n",
       "      <td>2021</td>\n",
       "      <td>nsw</td>\n",
       "      <td>government</td>\n",
       "      <td>secondary</td>\n",
       "      <td>13.2</td>\n",
       "    </tr>\n",
       "    <tr>\n",
       "      <th>150</th>\n",
       "      <td>2021</td>\n",
       "      <td>vic</td>\n",
       "      <td>government</td>\n",
       "      <td>secondary</td>\n",
       "      <td>11.8</td>\n",
       "    </tr>\n",
       "  </tbody>\n",
       "</table>\n",
       "</div>"
      ],
      "text/plain": [
       "     year state_territory affiliation school_level  student_teacher_ratio\n",
       "0    2022             nsw  government    secondary                   13.0\n",
       "15   2022             vic  government    secondary                   11.6\n",
       "30   2022             qld  government    secondary                   12.1\n",
       "135  2021             nsw  government    secondary                   13.2\n",
       "150  2021             vic  government    secondary                   11.8"
      ]
     },
     "execution_count": 126,
     "metadata": {},
     "output_type": "execute_result"
    }
   ],
   "source": [
    "df = df[df['school_level'] == 'secondary']\n",
    "df.head()"
   ]
  },
  {
   "cell_type": "code",
   "execution_count": 127,
   "id": "0840a5a1",
   "metadata": {},
   "outputs": [
    {
     "data": {
      "text/html": [
       "<div>\n",
       "<style scoped>\n",
       "    .dataframe tbody tr th:only-of-type {\n",
       "        vertical-align: middle;\n",
       "    }\n",
       "\n",
       "    .dataframe tbody tr th {\n",
       "        vertical-align: top;\n",
       "    }\n",
       "\n",
       "    .dataframe thead th {\n",
       "        text-align: right;\n",
       "    }\n",
       "</style>\n",
       "<table border=\"1\" class=\"dataframe\">\n",
       "  <thead>\n",
       "    <tr style=\"text-align: right;\">\n",
       "      <th></th>\n",
       "      <th>year</th>\n",
       "      <th>student_teacher_ratio</th>\n",
       "    </tr>\n",
       "  </thead>\n",
       "  <tbody>\n",
       "    <tr>\n",
       "      <th>count</th>\n",
       "      <td>51.000000</td>\n",
       "      <td>51.000000</td>\n",
       "    </tr>\n",
       "    <tr>\n",
       "      <th>mean</th>\n",
       "      <td>2014.000000</td>\n",
       "      <td>12.396078</td>\n",
       "    </tr>\n",
       "    <tr>\n",
       "      <th>std</th>\n",
       "      <td>4.947727</td>\n",
       "      <td>0.432648</td>\n",
       "    </tr>\n",
       "    <tr>\n",
       "      <th>min</th>\n",
       "      <td>2006.000000</td>\n",
       "      <td>11.600000</td>\n",
       "    </tr>\n",
       "    <tr>\n",
       "      <th>25%</th>\n",
       "      <td>2010.000000</td>\n",
       "      <td>12.100000</td>\n",
       "    </tr>\n",
       "    <tr>\n",
       "      <th>50%</th>\n",
       "      <td>2014.000000</td>\n",
       "      <td>12.400000</td>\n",
       "    </tr>\n",
       "    <tr>\n",
       "      <th>75%</th>\n",
       "      <td>2018.000000</td>\n",
       "      <td>12.500000</td>\n",
       "    </tr>\n",
       "    <tr>\n",
       "      <th>max</th>\n",
       "      <td>2022.000000</td>\n",
       "      <td>13.900000</td>\n",
       "    </tr>\n",
       "  </tbody>\n",
       "</table>\n",
       "</div>"
      ],
      "text/plain": [
       "              year  student_teacher_ratio\n",
       "count    51.000000              51.000000\n",
       "mean   2014.000000              12.396078\n",
       "std       4.947727               0.432648\n",
       "min    2006.000000              11.600000\n",
       "25%    2010.000000              12.100000\n",
       "50%    2014.000000              12.400000\n",
       "75%    2018.000000              12.500000\n",
       "max    2022.000000              13.900000"
      ]
     },
     "execution_count": 127,
     "metadata": {},
     "output_type": "execute_result"
    }
   ],
   "source": [
    "df.describe()"
   ]
  },
  {
   "cell_type": "markdown",
   "id": "6a2c3cf8",
   "metadata": {},
   "source": [
    "Checking for nans"
   ]
  },
  {
   "cell_type": "code",
   "execution_count": 129,
   "id": "07ccdee7",
   "metadata": {},
   "outputs": [
    {
     "data": {
      "text/plain": [
       "False"
      ]
     },
     "execution_count": 129,
     "metadata": {},
     "output_type": "execute_result"
    }
   ],
   "source": [
    "df.isnull().values.any()"
   ]
  },
  {
   "cell_type": "markdown",
   "id": "1ded71a9",
   "metadata": {},
   "source": [
    "Since the output was false, we don't need to find the nans with `df.isnull()`"
   ]
  },
  {
   "cell_type": "code",
   "execution_count": 139,
   "id": "e07f9669",
   "metadata": {},
   "outputs": [
    {
     "data": {
      "text/plain": [
       "pandas.core.frame.DataFrame"
      ]
     },
     "execution_count": 139,
     "metadata": {},
     "output_type": "execute_result"
    }
   ],
   "source": [
    "type(df)"
   ]
  },
  {
   "cell_type": "code",
   "execution_count": 144,
   "id": "0016016a",
   "metadata": {},
   "outputs": [],
   "source": [
    "df.to_csv('student_teacher_ratio.csv', index = False)"
   ]
  }
 ],
 "metadata": {
  "kernelspec": {
   "display_name": "Python 3 (ipykernel)",
   "language": "python",
   "name": "python3"
  },
  "language_info": {
   "codemirror_mode": {
    "name": "ipython",
    "version": 3
   },
   "file_extension": ".py",
   "mimetype": "text/x-python",
   "name": "python",
   "nbconvert_exporter": "python",
   "pygments_lexer": "ipython3",
   "version": "3.10.9"
  }
 },
 "nbformat": 4,
 "nbformat_minor": 5
}
